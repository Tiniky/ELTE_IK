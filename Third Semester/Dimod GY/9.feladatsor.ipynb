{
 "cells": [
  {
   "cell_type": "code",
   "execution_count": 7,
   "metadata": {},
   "outputs": [
    {
     "data": {
      "text/html": [
       "<html><script type=\"math/tex; mode=display\">\\newcommand{\\Bold}[1]{\\mathbf{#1}}54x^{5} + 90x^{4} - 66x^{3} - 174x^{2} - 84x - 12</script></html>"
      ],
      "text/latex": [
       "\\begin{math}\n",
       "\\newcommand{\\Bold}[1]{\\mathbf{#1}}54x^{5} + 90x^{4} - 66x^{3} - 174x^{2} - 84x - 12\n",
       "\\end{math}"
      ],
      "text/plain": [
       "54*x^5 + 90*x^4 - 66*x^3 - 174*x^2 - 84*x - 12"
      ]
     },
     "metadata": {},
     "output_type": "display_data"
    },
    {
     "name": "stdout",
     "output_type": "stream",
     "text": [
      "<class 'sage.rings.polynomial.polynomial_integer_dense_flint.Polynomial_integer_dense_flint'>\n",
      "54\n",
      "-12 -12\n",
      "5\n",
      "[-12, -84, -174, -66, 90, 54]\n",
      "1764 -174\n"
     ]
    },
    {
     "data": {
      "text/html": [
       "<html><script type=\"math/tex; mode=display\">\\newcommand{\\Bold}[1]{\\mathbf{#1}}162x^{5} + 270x^{4} - 198x^{3} - 522x^{2} - 252x - 36</script></html>"
      ],
      "text/latex": [
       "\\begin{math}\n",
       "\\newcommand{\\Bold}[1]{\\mathbf{#1}}162x^{5} + 270x^{4} - 198x^{3} - 522x^{2} - 252x - 36\n",
       "\\end{math}"
      ],
      "text/plain": [
       "162*x^5 + 270*x^4 - 198*x^3 - 522*x^2 - 252*x - 36"
      ]
     },
     "metadata": {},
     "output_type": "display_data"
    },
    {
     "data": {
      "text/html": [
       "<html><script type=\"math/tex; mode=display\">\\newcommand{\\Bold}[1]{\\mathbf{#1}}459165024x^{25} + 3826375200x^{24} + 9948575520x^{23} - 4846741920x^{22} - 75081984480x^{21} - 123209281440x^{20} + 73173520800x^{19} + 481364298720x^{18} + 487524290400x^{17} - 344376684000x^{16} - 1235034327456x^{15} - 938794030560x^{14} + 418331576160x^{13} + 1378518043680x^{12} + 1084175370720x^{11} + 133864081056x^{10} - 506228097600x^{9} - 565505323200x^{8} - 344291731200x^{7} - 142163631360x^{6} - 42061814784x^{5} - 8996520960x^{4} - 1365465600x^{3} - 139968000x^{2} - 8709120x - 248832</script></html>"
      ],
      "text/latex": [
       "\\begin{math}\n",
       "\\newcommand{\\Bold}[1]{\\mathbf{#1}}459165024x^{25} + 3826375200x^{24} + 9948575520x^{23} - 4846741920x^{22} - 75081984480x^{21} - 123209281440x^{20} + 73173520800x^{19} + 481364298720x^{18} + 487524290400x^{17} - 344376684000x^{16} - 1235034327456x^{15} - 938794030560x^{14} + 418331576160x^{13} + 1378518043680x^{12} + 1084175370720x^{11} + 133864081056x^{10} - 506228097600x^{9} - 565505323200x^{8} - 344291731200x^{7} - 142163631360x^{6} - 42061814784x^{5} - 8996520960x^{4} - 1365465600x^{3} - 139968000x^{2} - 8709120x - 248832\n",
       "\\end{math}"
      ],
      "text/plain": [
       "459165024*x^25 + 3826375200*x^24 + 9948575520*x^23 - 4846741920*x^22 - 75081984480*x^21 - 123209281440*x^20 + 73173520800*x^19 + 481364298720*x^18 + 487524290400*x^17 - 344376684000*x^16 - 1235034327456*x^15 - 938794030560*x^14 + 418331576160*x^13 + 1378518043680*x^12 + 1084175370720*x^11 + 133864081056*x^10 - 506228097600*x^9 - 565505323200*x^8 - 344291731200*x^7 - 142163631360*x^6 - 42061814784*x^5 - 8996520960*x^4 - 1365465600*x^3 - 139968000*x^2 - 8709120*x - 248832"
      ]
     },
     "metadata": {},
     "output_type": "display_data"
    },
    {
     "name": "stdout",
     "output_type": "stream",
     "text": [
      "54*x^5 + 90*x^4 - 66*x^3 - 174*x^2 - 84*x - 12  ==  2 * 3 * (x + 1) * (3*x + 1)^2 * (x^2 - 2)\n"
     ]
    }
   ],
   "source": [
    "p = ZZ['x']((54*x^4 + 36*x^3 - 102*x^2 - 72*x - 12)*(x+1))\n",
    "show(p)\n",
    "print(type(p))\n",
    "print(p.leading_coefficient())\n",
    "print(p.constant_coefficient(), p(0))\n",
    "print(p.degree())\n",
    "print(p.list())\n",
    "print(p(2),  p[2])\n",
    "show(3 * p)\n",
    "show(p^5)\n",
    "print(expand(p),' == ', factor(p))"
   ]
  },
  {
   "cell_type": "code",
   "execution_count": null,
   "metadata": {},
   "outputs": [],
   "source": [
    "# Keresd meg a x^4 - 6x^3 + 454x - 1281 polinom gyökeit!\"\n",
    "\n"
   ]
  },
  {
   "cell_type": "code",
   "execution_count": null,
   "metadata": {},
   "outputs": [],
   "source": [
    "# Keresd meg a \n",
    "# x^134 - 134x^121 + x^97 - 56x^87 + 677x^51 - x^38 + x^24 - 675x^17 + x^10 - 5x^7 +  8x^3 - x^2 - x + 1 \n",
    "# polinom valós és komplex gyökeit!'\n",
    "\n",
    "\n"
   ]
  },
  {
   "cell_type": "code",
   "execution_count": null,
   "metadata": {},
   "outputs": [],
   "source": [
    "# Állítsd elő azt az n-edfokú polinomot, amelynek a gyökei 1,2,...,n"
   ]
  },
  {
   "cell_type": "code",
   "execution_count": null,
   "metadata": {},
   "outputs": [],
   "source": [
    "# Keresd meg a x^5-5*x^3+5*x+2 (komplex együtthatós) polinom többszörös gyökeit"
   ]
  },
  {
   "cell_type": "code",
   "execution_count": null,
   "metadata": {},
   "outputs": [],
   "source": [
    "#Készíts függvényt, amely paraméterként fogad egy poly polinomot,\n",
    "# és eredményül ad egy olyan polinomot, amelynek ugyanazok a valós gyökei mint poly-nak, de nincsenek komplex gyökei."
   ]
  },
  {
   "cell_type": "code",
   "execution_count": 8,
   "metadata": {},
   "outputs": [
    {
     "data": {
      "text/plain": [
       "3.0000000000000004"
      ]
     },
     "execution_count": 8,
     "metadata": {},
     "output_type": "execute_result"
    }
   ],
   "source": [
    "p =  x^4 - 6*x^3 + 454*x - 1281\n",
    "solve(p(x) == 0, x)\n",
    "solve(p(x) == 0, x, solution_dict=True)\n",
    "find_root(p(x) == 0, 1, 5)"
   ]
  },
  {
   "cell_type": "code",
   "execution_count": null,
   "metadata": {},
   "outputs": [],
   "source": [
    "# Készíts olyan valós együtthatós polinomot, amelynek gyökei: 3; 3; 12.5; -45; 12; -2 !\""
   ]
  },
  {
   "cell_type": "code",
   "execution_count": 13,
   "metadata": {},
   "outputs": [
    {
     "data": {
      "text/plain": [
       "-23/84*x^3 - 11/84*x^2 + 13/7*x + 1"
      ]
     },
     "execution_count": 13,
     "metadata": {},
     "output_type": "execute_result"
    }
   ],
   "source": [
    "p  = PolynomialRing(QQ, 'x')\n",
    "R = PolynomialRing(QQ, 'x').lagrange_polynomial([(0,1),(2,2),(3,-2),(-4,9)])\n",
    "R"
   ]
  },
  {
   "cell_type": "code",
   "execution_count": null,
   "metadata": {},
   "outputs": [],
   "source": [
    "# Készítsd el az li polinomokat adott R alaphalmaz és c lista esetén \n",
    "# Készits egy függvényt ami adott R alaphalmaz, (c, d) lista esetén elkészíti a polinomot. \n"
   ]
  },
  {
   "cell_type": "code",
   "execution_count": null,
   "metadata": {},
   "outputs": [],
   "source": [
    "# Szorgalmi: Készíts függvényt, amely paraméterként fogad p, q polinomokat.\n",
    "#  Ábrázolja egy közös koordináta-rendszerben a p, q, lnko(p, q) polinomokat."
   ]
  },
  {
   "cell_type": "code",
   "execution_count": null,
   "metadata": {},
   "outputs": [],
   "source": [
    "# Szorgalmi: Készíts függvényt, amely előállít egy n-edfokú polinomot,\n",
    "#  amelynek együtthatóit véletlenszerűen választja meg a {-1, 0, +1} \n",
    "#  halmazból, majd ábrázolja a komplex gyökeit a Gauss-számsíkon."
   ]
  }
 ],
 "metadata": {
  "kernelspec": {
   "display_name": "SageMath 9.2",
   "language": "sage",
   "name": "sagemath"
  },
  "language_info": {
   "codemirror_mode": {
    "name": "ipython",
    "version": 3
   },
   "file_extension": ".py",
   "mimetype": "text/x-python",
   "name": "python",
   "nbconvert_exporter": "python",
   "pygments_lexer": "ipython3",
   "version": "3.7.7"
  }
 },
 "nbformat": 4,
 "nbformat_minor": 4
}
