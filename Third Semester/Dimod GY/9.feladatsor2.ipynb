{
 "cells": [
  {
   "cell_type": "code",
   "execution_count": null,
   "metadata": {},
   "outputs": [],
   "source": [
    "p = ZZ['x']((54*x^4 + 36*x^3 - 102*x^2 - 72*x - 12)*(x+1))\n",
    "show(p)\n",
    "print(type(p))\n",
    "print(p.leading_coefficient())\n",
    "print(p.constant_coefficient(), p(0))\n",
    "print(p.degree())\n",
    "print(p.list())\n",
    "print(p(2),  p[2])\n",
    "show(3 * p)\n",
    "show(p^5)\n",
    "print(expand(p),' == ', factor(p))"
   ]
  },
  {
   "cell_type": "code",
   "execution_count": 26,
   "metadata": {},
   "outputs": [
    {
     "data": {
      "text/plain": [
       "x^2 + 4*x - 21"
      ]
     },
     "execution_count": 26,
     "metadata": {},
     "output_type": "execute_result"
    }
   ],
   "source": [
    "# Keresd meg a x^4 - 6x^3 + 454x - 1281 polinom gyökeit!\"\n",
    "\n",
    "p = ZZ['x'](x^4 - 6*x^3 + 454*x - 1281)\n",
    "p.roots(ring=CC)\n",
    "\n",
    "# -7, 3 gyoke\n",
    "expand((x+7)*(x-3))"
   ]
  },
  {
   "cell_type": "code",
   "execution_count": 9,
   "metadata": {},
   "outputs": [
    {
     "data": {
      "text/plain": [
       "0"
      ]
     },
     "execution_count": 9,
     "metadata": {},
     "output_type": "execute_result"
    }
   ],
   "source": [
    "# Keresd meg a \n",
    "# x^134 - 134x^121 + x^97 - 56x^87 + 677x^51 - x^38 + x^24 - 675x^17 + x^10 - 5x^7 +  8x^3 - x^2 - x + 1 \n",
    "# polinom valós és komplex gyökeit!'\n",
    "\n",
    "p = Zmod(10)['x'](x^134 - 134*x^121 + x^97 - 56*x^87 + 677*x^51 - x^38 + x^24 - 675*x^17 + x^10 - 5*x^7 +  8*x^3 - x^2 - x + 1)\n",
    "# ZZ, CC, QQ, RR, Z_m -> GF(m) de m prim, \n",
    "#p.roots(ring=QQ)\n",
    "(p*10)"
   ]
  },
  {
   "cell_type": "code",
   "execution_count": null,
   "metadata": {},
   "outputs": [],
   "source": [
    "# Állítsd elő azt az n-edfokú polinomot, amelynek a gyökei 1,2,...,n"
   ]
  },
  {
   "cell_type": "code",
   "execution_count": null,
   "metadata": {},
   "outputs": [],
   "source": [
    "# Keresd meg a x^5-5*x^3+5*x+2 (komplex együtthatós) polinom többszörös gyökeit"
   ]
  },
  {
   "cell_type": "code",
   "execution_count": 35,
   "metadata": {},
   "outputs": [
    {
     "data": {
      "text/plain": [
       "<class 'sage.rings.polynomial.polynomial_real_mpfr_dense.PolynomialRealDense'>"
      ]
     },
     "execution_count": 35,
     "metadata": {},
     "output_type": "execute_result"
    }
   ],
   "source": [
    "#Készíts függvényt, amely paraméterként fogad egy poly polinomot,\n",
    "# és eredményül ad egy olyan polinomot, amelynek ugyanazok a valós gyökei mint poly-nak, de nincsenek komplex gyökei.\n",
    "def poly_gen(p):\n",
    "    l = p.roots(ring=RR) # (gyok, nr)\n",
    "    R = RR['x']\n",
    "    q = R(1)\n",
    "    for r, nr in l:\n",
    "        q *= R(x-r)\n",
    "    return q\n",
    "\n",
    "p = QQ['x']((x^2 + 4*x - 21)*(x-1/2))\n",
    "type(poly_gen(p))"
   ]
  },
  {
   "cell_type": "code",
   "execution_count": null,
   "metadata": {},
   "outputs": [],
   "source": [
    "p =  x^4 - 6*x^3 + 454*x - 1281\n",
    "solve(p(x) == 0, x)\n",
    "solve(p(x) == 0, x, solution_dict=True)\n",
    "find_root(p(x) == 0, 1, 5)"
   ]
  },
  {
   "cell_type": "code",
   "execution_count": null,
   "metadata": {},
   "outputs": [],
   "source": [
    "# Készíts olyan valós együtthatós polinomot, amelynek gyökei: 3; 3; 12.5; -45; 12; -2 !\""
   ]
  },
  {
   "cell_type": "code",
   "execution_count": 4,
   "metadata": {},
   "outputs": [
    {
     "data": {
      "text/html": [
       "<html><script type=\"math/tex; mode=display\">\\newcommand{\\Bold}[1]{\\mathbf{#1}}x^{4} + x^{3} - 3 x^{2} - 4 x - 1</script></html>"
      ],
      "text/latex": [
       "\\begin{math}\n",
       "\\newcommand{\\Bold}[1]{\\mathbf{#1}}x^{4} + x^{3} - 3 x^{2} - 4 x - 1\n",
       "\\end{math}"
      ],
      "text/plain": [
       "x^4 + x^3 - 3*x^2 - 4*x - 1"
      ]
     },
     "metadata": {},
     "output_type": "display_data"
    },
    {
     "data": {
      "image/png": "[encoded data removed]",
      "text/plain": [
       "Graphics object consisting of 2 graphics primitives"
      ]
     },
     "execution_count": 4,
     "metadata": {},
     "output_type": "execute_result"
    }
   ],
   "source": [
    "# Az interpoláció matematikai közelítő módszer, amely egy függvény nem ismert értékeire az ismert értékek alapján ad közelítést.\n",
    "\n",
    "p  = PolynomialRing(QQ, 'x') # == QQ['x']\n",
    "f = PolynomialRing(QQ, 'x').lagrange_polynomial([(-1,0),(0,-1),(2,3), (-2, 3), (1,-6)])\n",
    "show(f)\n",
    "\n",
    "plot(f, -2, 2) + points([(-1,0),(0,-1),(2,3), (-2, 3), (1,-6)])\n"
   ]
  },
  {
   "cell_type": "code",
   "execution_count": 5,
   "metadata": {},
   "outputs": [
    {
     "data": {
      "text/plain": [
       "5767/212520*y^4 + 21691/35420*y^3 + 206753/212520*y^2 - 21691/35420*y + 2"
      ]
     },
     "execution_count": 5,
     "metadata": {},
     "output_type": "execute_result"
    }
   ],
   "source": [
    "var('y')\n",
    "PolynomialRing(QQ, 'y').lagrange_polynomial([(0,2),(-1,3), (1,3), (2, 10), (-21, 50)])"
   ]
  },
  {
   "cell_type": "code",
   "execution_count": null,
   "metadata": {},
   "outputs": [],
   "source": [
    "# Készítsd el az li polinomokat adott R alaphalmaz és c lista esetén \n",
    "# Készits egy függvényt ami adott R alaphalmaz, (c, d) lista esetén elkészíti a polinomot. \n"
   ]
  },
  {
   "cell_type": "code",
   "execution_count": null,
   "metadata": {},
   "outputs": [],
   "source": [
    "# Szorgalmi: Készíts függvényt, amely paraméterként fogad p, q polinomokat.\n",
    "#  Ábrázolja egy közös koordináta-rendszerben a p, q, lnko(p, q) polinomokat."
   ]
  },
  {
   "cell_type": "code",
   "execution_count": null,
   "metadata": {},
   "outputs": [],
   "source": [
    "# Szorgalmi: Készíts függvényt, amely előállít egy n-edfokú polinomot,\n",
    "#  amelynek együtthatóit véletlenszerűen választja meg a {-1, 0, +1} \n",
    "#  halmazból, majd ábrázolja a komplex gyökeit a Gauss-számsíkon."
   ]
  },
  {
   "cell_type": "code",
   "execution_count": 3,
   "metadata": {},
   "outputs": [
    {
     "ename": "TypeError",
     "evalue": "unsupported operand parent(s) for *: 'Univariate Polynomial Ring in x over Ring of integers modulo 10' and 'Univariate Polynomial Ring in x over Ring of integers modulo 11'",
     "output_type": "error",
     "traceback": [
      "\u001b[0;31m---------------------------------------------------------------------------\u001b[0m",
      "\u001b[0;31mTypeError\u001b[0m                                 Traceback (most recent call last)",
      "\u001b[0;32m<ipython-input-3-b86d54a33f4b>\u001b[0m in \u001b[0;36m<module>\u001b[0;34m\u001b[0m\n\u001b[1;32m     13\u001b[0m \u001b[0mcd\u001b[0m \u001b[0;34m=\u001b[0m \u001b[0mR2\u001b[0m\u001b[0;34m(\u001b[0m\u001b[0mx\u001b[0m\u001b[0;34m**\u001b[0m\u001b[0mInteger\u001b[0m\u001b[0;34m(\u001b[0m\u001b[0;36m3\u001b[0m\u001b[0;34m)\u001b[0m \u001b[0;34m+\u001b[0m \u001b[0mInteger\u001b[0m\u001b[0;34m(\u001b[0m\u001b[0;36m1\u001b[0m\u001b[0;34m)\u001b[0m\u001b[0;34m)\u001b[0m\u001b[0;34m\u001b[0m\u001b[0;34m\u001b[0m\u001b[0m\n\u001b[1;32m     14\u001b[0m \u001b[0;34m\u001b[0m\u001b[0m\n\u001b[0;32m---> 15\u001b[0;31m \u001b[0mab\u001b[0m \u001b[0;34m*\u001b[0m \u001b[0mcd\u001b[0m\u001b[0;34m\u001b[0m\u001b[0;34m\u001b[0m\u001b[0m\n\u001b[0m",
      "\u001b[0;32m/opt/sagemath-9.2/local/lib/python3.7/site-packages/sage/structure/element.pyx\u001b[0m in \u001b[0;36msage.structure.element.Element.__mul__ (build/cythonized/sage/structure/element.c:12199)\u001b[0;34m()\u001b[0m\n\u001b[1;32m   1513\u001b[0m             \u001b[0;32mreturn\u001b[0m \u001b[0;34m(\u001b[0m\u001b[0;34m<\u001b[0m\u001b[0mElement\u001b[0m\u001b[0;34m>\u001b[0m\u001b[0mleft\u001b[0m\u001b[0;34m)\u001b[0m\u001b[0;34m.\u001b[0m\u001b[0m_mul_\u001b[0m\u001b[0;34m(\u001b[0m\u001b[0mright\u001b[0m\u001b[0;34m)\u001b[0m\u001b[0;34m\u001b[0m\u001b[0;34m\u001b[0m\u001b[0m\n\u001b[1;32m   1514\u001b[0m         \u001b[0;32mif\u001b[0m \u001b[0mBOTH_ARE_ELEMENT\u001b[0m\u001b[0;34m(\u001b[0m\u001b[0mcl\u001b[0m\u001b[0;34m)\u001b[0m\u001b[0;34m:\u001b[0m\u001b[0;34m\u001b[0m\u001b[0;34m\u001b[0m\u001b[0m\n\u001b[0;32m-> 1515\u001b[0;31m             \u001b[0;32mreturn\u001b[0m \u001b[0mcoercion_model\u001b[0m\u001b[0;34m.\u001b[0m\u001b[0mbin_op\u001b[0m\u001b[0;34m(\u001b[0m\u001b[0mleft\u001b[0m\u001b[0;34m,\u001b[0m \u001b[0mright\u001b[0m\u001b[0;34m,\u001b[0m \u001b[0mmul\u001b[0m\u001b[0;34m)\u001b[0m\u001b[0;34m\u001b[0m\u001b[0;34m\u001b[0m\u001b[0m\n\u001b[0m\u001b[1;32m   1516\u001b[0m \u001b[0;34m\u001b[0m\u001b[0m\n\u001b[1;32m   1517\u001b[0m         \u001b[0mcdef\u001b[0m \u001b[0mlong\u001b[0m \u001b[0mvalue\u001b[0m\u001b[0;34m\u001b[0m\u001b[0;34m\u001b[0m\u001b[0m\n",
      "\u001b[0;32m/opt/sagemath-9.2/local/lib/python3.7/site-packages/sage/structure/coerce.pyx\u001b[0m in \u001b[0;36msage.structure.coerce.CoercionModel.bin_op (build/cythonized/sage/structure/coerce.c:11304)\u001b[0;34m()\u001b[0m\n\u001b[1;32m   1246\u001b[0m         \u001b[0;31m# We should really include the underlying error.\u001b[0m\u001b[0;34m\u001b[0m\u001b[0;34m\u001b[0m\u001b[0;34m\u001b[0m\u001b[0m\n\u001b[1;32m   1247\u001b[0m         \u001b[0;31m# This causes so much headache.\u001b[0m\u001b[0;34m\u001b[0m\u001b[0;34m\u001b[0m\u001b[0;34m\u001b[0m\u001b[0m\n\u001b[0;32m-> 1248\u001b[0;31m         \u001b[0;32mraise\u001b[0m \u001b[0mbin_op_exception\u001b[0m\u001b[0;34m(\u001b[0m\u001b[0mop\u001b[0m\u001b[0;34m,\u001b[0m \u001b[0mx\u001b[0m\u001b[0;34m,\u001b[0m \u001b[0my\u001b[0m\u001b[0;34m)\u001b[0m\u001b[0;34m\u001b[0m\u001b[0;34m\u001b[0m\u001b[0m\n\u001b[0m\u001b[1;32m   1249\u001b[0m \u001b[0;34m\u001b[0m\u001b[0m\n\u001b[1;32m   1250\u001b[0m     \u001b[0mcpdef\u001b[0m \u001b[0mcanonical_coercion\u001b[0m\u001b[0;34m(\u001b[0m\u001b[0mself\u001b[0m\u001b[0;34m,\u001b[0m \u001b[0mx\u001b[0m\u001b[0;34m,\u001b[0m \u001b[0my\u001b[0m\u001b[0;34m)\u001b[0m\u001b[0;34m:\u001b[0m\u001b[0;34m\u001b[0m\u001b[0;34m\u001b[0m\u001b[0m\n",
      "\u001b[0;31mTypeError\u001b[0m: unsupported operand parent(s) for *: 'Univariate Polynomial Ring in x over Ring of integers modulo 10' and 'Univariate Polynomial Ring in x over Ring of integers modulo 11'"
     ]
    }
   ],
   "source": [
    "# R.<x, t> = QQ['x,t']\n",
    "# poly = (t+1) * (t+2); poly\n",
    "\n",
    "# f = x^6 - 6*x^4 - 4*x^3 + 9*x^2 + 12*x + 4\n",
    "# f(-1)\n",
    "# type(f)\n",
    "\n",
    "R1 = PolynomialRing(Zmod(10), 'x') # 0,1,2,3,4,5,6,7,8,9 Z_10  a + b  = (a + b) mod 10\n",
    "R2 = PolynomialRing(Zmod(11), 'x')\n",
    "type(x)\n",
    "\n",
    "ab = R1(x^2 + 1)\n",
    "cd = R2(x^3 + 1)\n",
    "\n",
    "ab * cd"
   ]
  },
  {
   "cell_type": "code",
   "execution_count": null,
   "metadata": {},
   "outputs": [],
   "source": [
    "poly in R"
   ]
  },
  {
   "cell_type": "code",
   "execution_count": null,
   "metadata": {},
   "outputs": [],
   "source": [
    "R.<y> = PolynomialRing(Zmod(10))\n",
    "\n",
    "(10*y + 5)\n",
    "t = R(15)\n",
    "t == 15"
   ]
  },
  {
   "cell_type": "code",
   "execution_count": null,
   "metadata": {},
   "outputs": [],
   "source": [
    "GF(5)['x'](5*x - 4)"
   ]
  },
  {
   "cell_type": "code",
   "execution_count": 15,
   "metadata": {},
   "outputs": [
    {
     "data": {
      "text/plain": [
       "(2*x^7 + x^3 + 3*x^2 + 2*x + 5, 2*x^7 + x^3 + 3*x^2 + 2*x + 5)"
      ]
     },
     "execution_count": 15,
     "metadata": {},
     "output_type": "execute_result"
    }
   ],
   "source": [
    "R = PolynomialRing(QQ, 'x')\n",
    "p = ZZ['x'](2*x^7+x^3+3*x^2 + 2*x+5)\n",
    "q = R([5,2,3,1,0,0,0,2])\n",
    "p,q"
   ]
  },
  {
   "cell_type": "code",
   "execution_count": 19,
   "metadata": {},
   "outputs": [
    {
     "data": {
      "text/plain": [
       "(4*x^14 + 4*x^10 + 12*x^9 + 8*x^8 + 20*x^7 + x^6 + 6*x^5 + 13*x^4 + 22*x^3 + 34*x^2 + 20*x + 25,\n",
       " 34,\n",
       " 81225)"
      ]
     },
     "execution_count": 19,
     "metadata": {},
     "output_type": "execute_result"
    }
   ],
   "source": [
    "p2 = p*p\n",
    "p2, p2[2], p2(2)"
   ]
  },
  {
   "cell_type": "code",
   "execution_count": null,
   "metadata": {},
   "outputs": [],
   "source": []
  },
  {
   "cell_type": "code",
   "execution_count": null,
   "metadata": {},
   "outputs": [],
   "source": [
    "#  Készíts egy programot, ami eldönti, hogy a paraméterül kapott lista elemei prefix kódót alkotnak-e és ha nem,\n",
    "# addj meg 2 elemet, amelyek sértik a feltételeket.\n",
    "l = ['1001', '101', '01', '01111']\n",
    "\n",
    "def is_prefix(l):\n",
    "    s = set(l)\n",
    "    if not len(list(s)) == len(l): # ugyanaz tobbszor benne van\n",
    "        return False\n",
    "    for x in l:\n",
    "        for i in range(1,len(x)):\n",
    "            if x[:i] in s:\n",
    "                return False\n",
    "    return True"
   ]
  },
  {
   "cell_type": "code",
   "execution_count": null,
   "metadata": {},
   "outputs": [],
   "source": []
  },
  {
   "cell_type": "code",
   "execution_count": null,
   "metadata": {},
   "outputs": [],
   "source": []
  },
  {
   "cell_type": "code",
   "execution_count": null,
   "metadata": {},
   "outputs": [],
   "source": []
  },
  {
   "cell_type": "code",
   "execution_count": null,
   "metadata": {},
   "outputs": [],
   "source": []
  }
 ],
 "metadata": {
  "kernelspec": {
   "display_name": "SageMath 9.2",
   "language": "sage",
   "name": "sagemath"
  },
  "language_info": {
   "codemirror_mode": {
    "name": "ipython",
    "version": 3
   },
   "file_extension": ".py",
   "mimetype": "text/x-python",
   "name": "python",
   "nbconvert_exporter": "python",
   "pygments_lexer": "ipython3",
   "version": "3.7.7"
  }
 },
 "nbformat": 4,
 "nbformat_minor": 4
}
