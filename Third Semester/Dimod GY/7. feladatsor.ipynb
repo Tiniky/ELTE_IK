{
 "cells": [
  {
   "cell_type": "code",
   "execution_count": null,
   "metadata": {},
   "outputs": [],
   "source": [
    "# x mint változó változó, nem kell külön definiálni\n",
    "x"
   ]
  },
  {
   "cell_type": "code",
   "execution_count": null,
   "metadata": {},
   "outputs": [],
   "source": [
    "# y-t már kell definiálni\n",
    "reset('y')\n",
    "y"
   ]
  },
  {
   "cell_type": "code",
   "execution_count": null,
   "metadata": {},
   "outputs": [],
   "source": [
    "var('y')\n",
    "y"
   ]
  },
  {
   "cell_type": "code",
   "execution_count": null,
   "metadata": {},
   "outputs": [],
   "source": [
    "# expression és nem polinom (függvény)\n",
    "r(x) = x^2  + x + 1\n",
    "type(r)\n",
    "r(0)"
   ]
  },
  {
   "cell_type": "code",
   "execution_count": null,
   "metadata": {},
   "outputs": [],
   "source": [
    "# Egész együtthatós polinom gyűrű\n",
    "R = ZZ['x']\n",
    "p = x^2\n",
    "print(type(p))\n",
    "p = R(x^2)\n",
    "g =R(x+1)\n",
    "type(p*g)"
   ]
  },
  {
   "cell_type": "code",
   "execution_count": null,
   "metadata": {},
   "outputs": [],
   "source": [
    "p(2)\n"
   ]
  },
  {
   "cell_type": "code",
   "execution_count": null,
   "metadata": {},
   "outputs": [],
   "source": [
    "p in R"
   ]
  },
  {
   "cell_type": "code",
   "execution_count": null,
   "metadata": {},
   "outputs": [],
   "source": [
    "r in R"
   ]
  },
  {
   "cell_type": "code",
   "execution_count": null,
   "metadata": {},
   "outputs": [],
   "source": [
    "p*p"
   ]
  },
  {
   "cell_type": "code",
   "execution_count": null,
   "metadata": {},
   "outputs": [],
   "source": [
    "RR = ZZ['x']\n",
    "a(x) = x + 1\n",
    "a in RR"
   ]
  },
  {
   "cell_type": "code",
   "execution_count": null,
   "metadata": {},
   "outputs": [],
   "source": [
    "g =(p*(x+1))\n",
    "type(g)"
   ]
  },
  {
   "cell_type": "code",
   "execution_count": null,
   "metadata": {},
   "outputs": [],
   "source": []
  },
  {
   "cell_type": "code",
   "execution_count": null,
   "metadata": {},
   "outputs": [],
   "source": [
    "# Függvény definiálása\n",
    "f(x) = (2*x+1)^2\n",
    "f"
   ]
  },
  {
   "cell_type": "code",
   "execution_count": null,
   "metadata": {},
   "outputs": [],
   "source": [
    "# kifejtett alak\n",
    "f, expand(f)"
   ]
  },
  {
   "cell_type": "code",
   "execution_count": null,
   "metadata": {},
   "outputs": [],
   "source": [
    "# fuggveny de nem polinom fuggveny\n",
    "g(x) = x + log(x,10)\n",
    "g(100)\n"
   ]
  },
  {
   "cell_type": "code",
   "execution_count": null,
   "metadata": {},
   "outputs": [],
   "source": [
    "#Ezek nem polinomok!\n",
    "type(f)\n",
    "type(g)\n"
   ]
  },
  {
   "cell_type": "code",
   "execution_count": null,
   "metadata": {},
   "outputs": [],
   "source": [
    "#Polinom definiálása\n",
    "var('y,z')\n",
    "f=ZZ['y,x,z']((y^2+5*y-12 + z+x)*(x+1))\n",
    "print(type(f))\n",
    "print(f)\n",
    "show(f)\n",
    "#diff(f, 'x')"
   ]
  },
  {
   "cell_type": "code",
   "execution_count": null,
   "metadata": {},
   "outputs": [],
   "source": [
    "R = GF(5)['x']\n",
    "p = R((x+2)*(x+3)) # x^2 + 5x + 6\n",
    "p, expand(p)"
   ]
  },
  {
   "cell_type": "code",
   "execution_count": null,
   "metadata": {},
   "outputs": [],
   "source": [
    "factor(p)"
   ]
  },
  {
   "cell_type": "code",
   "execution_count": null,
   "metadata": {},
   "outputs": [],
   "source": [
    "p.roots() # -2, -3 Z_5 ben -2 =  3, -3 = 2"
   ]
  },
  {
   "cell_type": "code",
   "execution_count": null,
   "metadata": {},
   "outputs": [],
   "source": [
    "# 5-os gyok legyen a 2\n",
    "p = (x-2)^5*p"
   ]
  },
  {
   "cell_type": "code",
   "execution_count": null,
   "metadata": {},
   "outputs": [],
   "source": [
    "#Listából is konstruálható, vigyázzunk az együtthatók sorrendjére!\n",
    "p = ZZ['x']([1,2,0,3, 1])\n",
    "p"
   ]
  },
  {
   "cell_type": "code",
   "execution_count": null,
   "metadata": {},
   "outputs": [],
   "source": [
    "#Főegyüttható\n",
    "p.leading_coefficient()\n"
   ]
  },
  {
   "cell_type": "code",
   "execution_count": null,
   "metadata": {},
   "outputs": [],
   "source": [
    "#Konstans tag\n",
    "print(p.constant_coefficient())\n",
    "print(p[0])\n"
   ]
  },
  {
   "cell_type": "code",
   "execution_count": null,
   "metadata": {},
   "outputs": [],
   "source": [
    "#Fokszám\n",
    "p.degree()\n"
   ]
  },
  {
   "cell_type": "code",
   "execution_count": null,
   "metadata": {},
   "outputs": [],
   "source": [
    "p.list()"
   ]
  },
  {
   "cell_type": "code",
   "execution_count": null,
   "metadata": {},
   "outputs": [],
   "source": [
    "p = ZZ['x']((3*x^8+5*x^6-11*x^3+7*x^2-15*x+8)*(x+1))\n",
    "q = ZZ['x'](x^3+1)\n",
    "#Legnagyobb közös osztó, a háttérben euklideszi algoritmus fut.\n",
    "g = p.gcd(q)\n",
    "print(g)\n",
    "gcd(p,q)\n"
   ]
  },
  {
   "cell_type": "code",
   "execution_count": null,
   "metadata": {},
   "outputs": [],
   "source": [
    "#Oszthatóság a korábbi definícióval működik.\n",
    "print(g.divides(p))\n",
    "print(g.divides(q))\n"
   ]
  },
  {
   "cell_type": "code",
   "execution_count": null,
   "metadata": {},
   "outputs": [],
   "source": [
    "p/q"
   ]
  },
  {
   "cell_type": "code",
   "execution_count": null,
   "metadata": {},
   "outputs": [],
   "source": [
    "p//q"
   ]
  },
  {
   "cell_type": "code",
   "execution_count": null,
   "metadata": {},
   "outputs": [],
   "source": [
    "p % q"
   ]
  },
  {
   "cell_type": "code",
   "execution_count": null,
   "metadata": {},
   "outputs": [],
   "source": [
    "# Állítsuk elő azt az n-edfokú polinomot, amelynek együtthatói: n, n-1, ..., 1\n"
   ]
  },
  {
   "cell_type": "code",
   "execution_count": null,
   "metadata": {},
   "outputs": [],
   "source": [
    "p = ZZ['x']([-12, 43, 13, -7, 42])\n",
    "q = ZZ['x']([1, -1, 1])\n",
    "print(p//q)\n",
    "print(p % q)"
   ]
  },
  {
   "cell_type": "code",
   "execution_count": null,
   "metadata": {},
   "outputs": [],
   "source": [
    "# Keresse meg a x^4 - 6*x^3 + 454*x - 1281 polinom gyökeit.\n",
    "p =  x^4 - 6*x^3 + 454*x - 1281\n",
    "p.roots(ring=ZZ)"
   ]
  },
  {
   "cell_type": "code",
   "execution_count": null,
   "metadata": {},
   "outputs": [],
   "source": [
    "R = ZZ['x']\n",
    "R((8*x^2 + 12)*(18*x + 36)) % R(72)"
   ]
  },
  {
   "cell_type": "code",
   "execution_count": null,
   "metadata": {},
   "outputs": [],
   "source": [
    "# Állítsuk elő azt az n-edfokú polinomot, amelynek együtthatói: n, n-1, ..., 1\n"
   ]
  },
  {
   "cell_type": "code",
   "execution_count": null,
   "metadata": {},
   "outputs": [],
   "source": [
    "[1..5]"
   ]
  },
  {
   "cell_type": "code",
   "execution_count": null,
   "metadata": {},
   "outputs": [],
   "source": [
    "# Állítsuk elő azt az n-edfokú polinomot, amelynek a gyökei 1,2,...,n\n"
   ]
  },
  {
   "cell_type": "code",
   "execution_count": null,
   "metadata": {},
   "outputs": [],
   "source": [
    "# Keressük meg a x^5-5*x^3+5*x+2 (komplex együtthatós) polinom többszörös gyökeit\n"
   ]
  },
  {
   "cell_type": "code",
   "execution_count": null,
   "metadata": {},
   "outputs": [],
   "source": [
    "p.roots(ring=RR)\n",
    "p.roots(ring=CC)\n"
   ]
  },
  {
   "cell_type": "code",
   "execution_count": null,
   "metadata": {},
   "outputs": [],
   "source": [
    "solve(p(x) == 0, x)"
   ]
  },
  {
   "cell_type": "code",
   "execution_count": null,
   "metadata": {},
   "outputs": [],
   "source": [
    "solve(p(x) == 0, x, solution_dict=True)\n"
   ]
  },
  {
   "cell_type": "code",
   "execution_count": null,
   "metadata": {},
   "outputs": [],
   "source": [
    "find_root(p(x) == 0, 1, 5)"
   ]
  },
  {
   "cell_type": "code",
   "execution_count": null,
   "metadata": {},
   "outputs": [],
   "source": [
    "\n",
    "#Készítsen függvényt, amely paraméterként fogad egy poly polinomot, és eredményül ad egy olyan polinomot, amelynek ugyanazok a valós gyökei mint poly-nak, de nincsenek komplex gyökei.\n"
   ]
  },
  {
   "cell_type": "code",
   "execution_count": null,
   "metadata": {},
   "outputs": [],
   "source": [
    "plot(x^2, x, -10, 10, xmin=-10, xmax=10, ymin=-10, ymax=10, aspect_ratio=1)\n"
   ]
  },
  {
   "cell_type": "code",
   "execution_count": null,
   "metadata": {},
   "outputs": [],
   "source": [
    "# Ábrázolja a x^5 - 5*x^4 - 80*x^3 + 60*x^2 + 2384*x + 5760 polinomot valamint a komplex gyökeit a Gauss-számsíkon.\n",
    "\n",
    "p = CC['x'](x^5 - 5*x^4 - 80*x^3 + 60*x^2 + 2384*x + 5760)\n",
    "p\n",
    "plot(p(x), x, -10, 10)\n"
   ]
  },
  {
   "cell_type": "code",
   "execution_count": null,
   "metadata": {},
   "outputs": [],
   "source": [
    "points([(root.real(), root.imag()) for (root, mult) in p.roots(ring=CC)], axes_labels=['Re', 'Im'], color='red')\n"
   ]
  },
  {
   "cell_type": "code",
   "execution_count": null,
   "metadata": {},
   "outputs": [],
   "source": [
    "# Készítsen függvényt, amely előállít egy n-edfokú polinomot, amelynek együtthatóit véletlenszerűen választja meg a {-1, 0, +1} halmazból, majd ábrázolja a komplex gyökeit a Gauss-számsíkon.\n"
   ]
  },
  {
   "cell_type": "code",
   "execution_count": null,
   "metadata": {},
   "outputs": [],
   "source": [
    "# randint\n",
    "# random_element\n",
    "# p = RR['x'].random_element(degree=n)"
   ]
  },
  {
   "cell_type": "code",
   "execution_count": null,
   "metadata": {},
   "outputs": [],
   "source": [
    "3*(-13) + 5*6 + (-11)*(-13) + 7*16 "
   ]
  },
  {
   "cell_type": "code",
   "execution_count": null,
   "metadata": {},
   "outputs": [],
   "source": [
    "168 % 24\n"
   ]
  },
  {
   "cell_type": "code",
   "execution_count": null,
   "metadata": {},
   "outputs": [],
   "source": [
    "expand((8*x^2 + 12)*(18*x + 36))"
   ]
  },
  {
   "cell_type": "code",
   "execution_count": null,
   "metadata": {},
   "outputs": [],
   "source": [
    "\n",
    "def plonom_n(n):\n",
    "    return ZZ['x']([ x for x in range(n+1)])\n",
    "plonom_n(10)"
   ]
  }
 ],
 "metadata": {
  "kernelspec": {
   "display_name": "SageMath 9.2",
   "language": "sage",
   "name": "sagemath"
  },
  "language_info": {
   "codemirror_mode": {
    "name": "ipython",
    "version": 3
   },
   "file_extension": ".py",
   "mimetype": "text/x-python",
   "name": "python",
   "nbconvert_exporter": "python",
   "pygments_lexer": "ipython3",
   "version": "3.7.7"
  }
 },
 "nbformat": 4,
 "nbformat_minor": 4
}
