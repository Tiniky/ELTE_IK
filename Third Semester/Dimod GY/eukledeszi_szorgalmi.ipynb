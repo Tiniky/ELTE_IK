{
 "cells": [
  {
   "cell_type": "code",
   "execution_count": 22,
   "metadata": {
    "collapsed": false
   },
   "outputs": [
    {
     "name": "stdout",
     "output_type": "stream",
     "text": [
      "86 = 31*2 + 24\n",
      "31 = 24*1 + 7\n",
      "24 = 7*3 + 3\n",
      "7 = 3*2 + 1\n",
      "3 = 1*3 + 0\n",
      "lnko = 1\n",
      "139 = 102*1 + 37\n",
      "102 = 37*2 + 28\n",
      "37 = 28*1 + 9\n",
      "28 = 9*3 + 1\n",
      "9 = 1*9 + 0\n",
      "lnko = 1\n",
      "255 = 111*2 + 33\n",
      "111 = 33*3 + 12\n",
      "33 = 12*2 + 9\n",
      "12 = 9*1 + 3\n",
      "9 = 3*3 + 0\n",
      "lnko = 3\n"
     ]
    }
   ],
   "source": [
    "def eukledeszi(a, b):\n",
    "    egesz = a//b\n",
    "    marad = a%b\n",
    "    print(\"%d = %d*%d + %d\" % (a, b, egesz, marad))\n",
    "    if marad == 0:\n",
    "        print(\"lnko = %d\" % b)\n",
    "    else:\n",
    "        eukledeszi(b, marad)\n",
    "\n",
    "p1 = eukledeszi(86, 31)\n",
    "p2 = eukledeszi(139, 102)\n",
    "p3 = eukledeszi(255, 111)"
   ]
  },
  {
   "cell_type": "code",
   "execution_count": 6,
   "metadata": {
    "collapsed": false
   },
   "outputs": [
    {
     "name": "stdout",
     "output_type": "stream",
     "text": [
      "24 = 86*1 + 31*(-2)\n",
      "7 = 86*(-1) + 31*3\n",
      "3 = 86*4 + 31*(-11)\n",
      "1 = 86*(-9) + 31*25\n",
      "x = -9, y = 25\n",
      "37 = 139*1 + 102*(-1)\n",
      "28 = 139*(-2) + 102*3\n",
      "9 = 139*3 + 102*(-4)\n",
      "1 = 139*(-11) + 102*15\n",
      "x = -11, y = 15\n",
      "33 = 255*1 + 111*(-2)\n",
      "12 = 255*(-3) + 111*7\n",
      "9 = 255*7 + 111*(-16)\n",
      "3 = 255*(-10) + 111*23\n",
      "x = -10, y = 23\n"
     ]
    }
   ],
   "source": [
    "def bov(a, b, xpp, xp, ypp, yp, rp, r):\n",
    "    if xp < 0:\n",
    "        print(\"%d = %d*(%d) + %d*%d\" % (r, a, xp, b, yp))\n",
    "    elif yp < 0:\n",
    "        print(\"%d = %d*%d + %d*(%d)\" % (r, a, xp, b, yp))\n",
    "    else:\n",
    "        print(\"%d = %d*%d + %d*%d\" % (r, a, xp, b, yp))\n",
    "    q = rp//r\n",
    "    tmp = rp%r\n",
    "    rp = r\n",
    "    r = tmp\n",
    "    x = xpp - q * xp\n",
    "    y = ypp - q * yp\n",
    "    if r == 0:\n",
    "        print(\"x = %d, y = %d\" % (xp, yp))\n",
    "    else:\n",
    "        bov(a, b, xp, x, yp, y, rp, r)\n",
    "\n",
    "def bovitettEukledeszi(a, b):\n",
    "    xpp = 1\n",
    "    xp = 0\n",
    "    ypp = 0\n",
    "    yp = 1\n",
    "    q = a//b\n",
    "    r = a%b\n",
    "    x = xpp - q * xp\n",
    "    y = ypp - q * yp\n",
    "    bov(a, b, xp, x, yp, y, b, r)\n",
    "\n",
    "p1 = bovitettEukledeszi(86, 31)\n",
    "p2 = bovitettEukledeszi(139, 102)\n",
    "p3 = bovitettEukledeszi(255, 111)"
   ]
  },
  {
   "cell_type": "code",
   "execution_count": 7,
   "metadata": {
    "collapsed": false
   },
   "outputs": [
    {
     "name": "stdout",
     "output_type": "stream",
     "text": [
      "1\n"
     ]
    }
   ],
   "source": [
    "print(1%2)"
   ]
  },
  {
   "cell_type": "code",
   "execution_count": 11,
   "metadata": {
    "collapsed": false
   },
   "outputs": [
    {
     "ename": "TypeError",
     "evalue": "unsupported operand type(s) for +: 'int' and 'str'",
     "output_type": "error",
     "traceback": [
      "\u001b[0;31m---------------------------------------------------------------------------\u001b[0m",
      "\u001b[0;31mTypeError\u001b[0m                                 Traceback (most recent call last)",
      "\u001b[0;32m/tmp/ipykernel_484/3738404461.py\u001b[0m in \u001b[0;36m<module>\u001b[0;34m\u001b[0m\n\u001b[0;32m----> 1\u001b[0;31m \u001b[0mprint\u001b[0m\u001b[0;34m(\u001b[0m\u001b[0;36m3\u001b[0m \u001b[0;34m+\u001b[0m \u001b[0;34m\"alma\"\u001b[0m\u001b[0;34m)\u001b[0m\u001b[0;34m\u001b[0m\u001b[0;34m\u001b[0m\u001b[0m\n\u001b[0m",
      "\u001b[0;31mTypeError\u001b[0m: unsupported operand type(s) for +: 'int' and 'str'"
     ]
    }
   ],
   "source": [
    "print(3 + \"alma\")"
   ]
  },
  {
   "cell_type": "code",
   "execution_count": 13,
   "metadata": {
    "collapsed": false
   },
   "outputs": [
    {
     "name": "stdout",
     "output_type": "stream",
     "text": [
      "3 alma 5\n"
     ]
    }
   ],
   "source": [
    "print(\"%d alma %d\" % (3, 5))"
   ]
  },
  {
   "cell_type": "code",
   "execution_count": 0,
   "metadata": {
    "collapsed": false
   },
   "outputs": [
   ],
   "source": [
   ]
  }
 ],
 "metadata": {
  "kernelspec": {
   "display_name": "Python 3 (SageMath)",
   "language": "python",
   "metadata": {
    "cocalc": {
     "description": "The Python 3 interpreter included in SageMath",
     "priority": 1,
     "url": "https://www.python.org/"
    }
   },
   "name": "python3-sage",
   "resource_dir": "/ext/jupyter/kernels/python3-sage"
  },
  "language_info": {
   "codemirror_mode": {
    "name": "ipython",
    "version": 3
   },
   "file_extension": ".py",
   "mimetype": "text/x-python",
   "name": "python",
   "nbconvert_exporter": "python",
   "pygments_lexer": "ipython3",
   "version": "3.10.3"
  }
 },
 "nbformat": 4,
 "nbformat_minor": 4
}