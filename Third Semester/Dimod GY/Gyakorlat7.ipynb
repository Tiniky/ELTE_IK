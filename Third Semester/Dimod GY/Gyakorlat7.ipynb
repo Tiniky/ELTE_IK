{
 "cells": [
  {
   "cell_type": "code",
   "execution_count": null,
   "metadata": {},
   "outputs": [],
   "source": [
    "# x mint változó változó, nem kell külön definiálni\n",
    "x"
   ]
  },
  {
   "cell_type": "code",
   "execution_count": null,
   "metadata": {},
   "outputs": [],
   "source": [
    "# y-t már kell definiálni\n",
    "reset('y')\n",
    "y"
   ]
  },
  {
   "cell_type": "code",
   "execution_count": null,
   "metadata": {},
   "outputs": [],
   "source": [
    "var('y')\n",
    "y"
   ]
  },
  {
   "cell_type": "code",
   "execution_count": null,
   "metadata": {},
   "outputs": [],
   "source": [
    "# expression és nem polinom (függvény)\n",
    "r(x) = x^2  + x + 1\n",
    "type(r)\n",
    "r(0)"
   ]
  },
  {
   "cell_type": "code",
   "execution_count": 4,
   "metadata": {},
   "outputs": [
    {
     "name": "stdout",
     "output_type": "stream",
     "text": [
      "<class 'sage.symbolic.expression.Expression'>\n"
     ]
    },
    {
     "data": {
      "text/plain": [
       "<class 'sage.symbolic.expression.Expression'>"
      ]
     },
     "execution_count": 4,
     "metadata": {},
     "output_type": "execute_result"
    }
   ],
   "source": [
    "# Egész együtthatós polinom gyűrű\n",
    "R = ZZ['x']\n",
    "p = x^2\n",
    "print(type(p))\n",
    "p = R(x^2)\n",
    "g =(x+1)\n",
    "type(p*g)"
   ]
  },
  {
   "cell_type": "code",
   "execution_count": 10,
   "metadata": {},
   "outputs": [
    {
     "data": {
      "text/plain": [
       "0"
      ]
     },
     "execution_count": 10,
     "metadata": {},
     "output_type": "execute_result"
    }
   ],
   "source": [
    "R(x+2)[100]"
   ]
  },
  {
   "cell_type": "code",
   "execution_count": 11,
   "metadata": {},
   "outputs": [
    {
     "data": {
      "text/plain": [
       "4"
      ]
     },
     "execution_count": 11,
     "metadata": {},
     "output_type": "execute_result"
    }
   ],
   "source": [
    "p(2)\n"
   ]
  },
  {
   "cell_type": "code",
   "execution_count": null,
   "metadata": {},
   "outputs": [],
   "source": [
    "p in R"
   ]
  },
  {
   "cell_type": "code",
   "execution_count": null,
   "metadata": {},
   "outputs": [],
   "source": [
    "r in R"
   ]
  },
  {
   "cell_type": "code",
   "execution_count": null,
   "metadata": {},
   "outputs": [],
   "source": [
    "p*p"
   ]
  },
  {
   "cell_type": "code",
   "execution_count": null,
   "metadata": {},
   "outputs": [],
   "source": [
    "RR = ZZ['x']\n",
    "a(x) = x + 1\n",
    "a in RR"
   ]
  },
  {
   "cell_type": "code",
   "execution_count": null,
   "metadata": {},
   "outputs": [],
   "source": [
    "g =(p*(x+1))\n",
    "type(g)"
   ]
  },
  {
   "cell_type": "code",
   "execution_count": null,
   "metadata": {},
   "outputs": [],
   "source": []
  },
  {
   "cell_type": "code",
   "execution_count": 12,
   "metadata": {},
   "outputs": [
    {
     "data": {
      "text/plain": [
       "x |--> (2*x + 1)^2"
      ]
     },
     "execution_count": 12,
     "metadata": {},
     "output_type": "execute_result"
    }
   ],
   "source": [
    "# Függvény definiálása\n",
    "f(x) = (2*x+1)^2\n",
    "f"
   ]
  },
  {
   "cell_type": "code",
   "execution_count": 13,
   "metadata": {},
   "outputs": [
    {
     "data": {
      "text/plain": [
       "(x |--> (2*x + 1)^2, x |--> 4*x^2 + 4*x + 1)"
      ]
     },
     "execution_count": 13,
     "metadata": {},
     "output_type": "execute_result"
    }
   ],
   "source": [
    "# kifejtett alak\n",
    "f, expand(f)"
   ]
  },
  {
   "cell_type": "code",
   "execution_count": null,
   "metadata": {},
   "outputs": [],
   "source": [
    "# fuggveny de nem polinom fuggveny\n",
    "g(x) = x + log(x,10)\n",
    "g(100)\n"
   ]
  },
  {
   "cell_type": "code",
   "execution_count": null,
   "metadata": {},
   "outputs": [],
   "source": [
    "#Ezek nem polinomok!\n",
    "type(f)\n",
    "type(g)\n"
   ]
  },
  {
   "cell_type": "code",
   "execution_count": null,
   "metadata": {},
   "outputs": [],
   "source": [
    "#Polinom definiálása\n",
    "var('y,z')\n",
    "f=ZZ['y,x,z']((y^2+5*y-12 + z+x)*(x+1))\n",
    "print(type(f))\n",
    "print(f)\n",
    "show(f)\n",
    "#diff(f, 'x')"
   ]
  },
  {
   "cell_type": "code",
   "execution_count": 15,
   "metadata": {},
   "outputs": [
    {
     "data": {
      "text/plain": [
       "(x^2 + 1, x^2 + 1)"
      ]
     },
     "execution_count": 15,
     "metadata": {},
     "output_type": "execute_result"
    }
   ],
   "source": [
    "R = GF(5)['x']\n",
    "p = R((x+2)*(x+3)) # x^2 + 5x + 6\n",
    "p, expand(p)"
   ]
  },
  {
   "cell_type": "code",
   "execution_count": 16,
   "metadata": {},
   "outputs": [
    {
     "data": {
      "text/plain": [
       "(x + 2) * (x + 3)"
      ]
     },
     "execution_count": 16,
     "metadata": {},
     "output_type": "execute_result"
    }
   ],
   "source": [
    "factor(p)"
   ]
  },
  {
   "cell_type": "code",
   "execution_count": null,
   "metadata": {},
   "outputs": [],
   "source": [
    "p.roots() # -2, -3 Z_5 ben -2 =  3, -3 = 2"
   ]
  },
  {
   "cell_type": "code",
   "execution_count": null,
   "metadata": {},
   "outputs": [],
   "source": [
    "# 5-os gyok legyen a 2\n",
    "p = (x-2)^5*p"
   ]
  },
  {
   "cell_type": "code",
   "execution_count": 17,
   "metadata": {},
   "outputs": [
    {
     "data": {
      "text/plain": [
       "x^4 + 3*x^3 + 2*x + 1"
      ]
     },
     "execution_count": 17,
     "metadata": {},
     "output_type": "execute_result"
    }
   ],
   "source": [
    "#Listából is konstruálható, vigyázzunk az együtthatók sorrendjére!\n",
    "p = ZZ['x']([1,2,0,3, 1])\n",
    "p"
   ]
  },
  {
   "cell_type": "code",
   "execution_count": null,
   "metadata": {},
   "outputs": [],
   "source": [
    "#Főegyüttható\n",
    "p.leading_coefficient()\n"
   ]
  },
  {
   "cell_type": "code",
   "execution_count": null,
   "metadata": {},
   "outputs": [],
   "source": [
    "#Konstans tag\n",
    "print(p.constant_coefficient())\n",
    "print(p[0])\n"
   ]
  },
  {
   "cell_type": "code",
   "execution_count": null,
   "metadata": {},
   "outputs": [],
   "source": [
    "#Fokszám\n",
    "p.degree()\n"
   ]
  },
  {
   "cell_type": "code",
   "execution_count": 18,
   "metadata": {},
   "outputs": [
    {
     "data": {
      "text/plain": [
       "[1, 2, 0, 3, 1]"
      ]
     },
     "execution_count": 18,
     "metadata": {},
     "output_type": "execute_result"
    }
   ],
   "source": [
    "p.list()"
   ]
  },
  {
   "cell_type": "code",
   "execution_count": 2,
   "metadata": {},
   "outputs": [
    {
     "name": "stdout",
     "output_type": "stream",
     "text": [
      "x + 1\n"
     ]
    },
    {
     "data": {
      "text/plain": [
       "36"
      ]
     },
     "execution_count": 2,
     "metadata": {},
     "output_type": "execute_result"
    }
   ],
   "source": [
    "p = ZZ['x']((3*x^8+5*x^6-11*x^3+7*x^2-15*x+8)*(x+1))\n",
    "q = ZZ['x'](x^3+1)\n",
    "#Legnagyobb közös osztó, a háttérben euklideszi algoritmus fut.\n",
    "g = p.gcd(q)\n",
    "print(g)\n",
    "gcd(p,q)\n",
    "\n",
    "gcd(4, 18)\n",
    "4*18//gcd(4,18)\n"
   ]
  },
  {
   "cell_type": "code",
   "execution_count": 20,
   "metadata": {},
   "outputs": [
    {
     "name": "stdout",
     "output_type": "stream",
     "text": [
      "True\n",
      "True\n"
     ]
    }
   ],
   "source": [
    "#Oszthatóság a korábbi definícióval működik.\n",
    "print(g.divides(p))\n",
    "print(g.divides(q))\n"
   ]
  },
  {
   "cell_type": "code",
   "execution_count": 21,
   "metadata": {},
   "outputs": [
    {
     "data": {
      "text/plain": [
       "(3*x^8 + 5*x^6 - 11*x^3 + 7*x^2 - 15*x + 8)/(x^2 - x + 1)"
      ]
     },
     "execution_count": 21,
     "metadata": {},
     "output_type": "execute_result"
    }
   ],
   "source": [
    "p/q"
   ]
  },
  {
   "cell_type": "code",
   "execution_count": 22,
   "metadata": {},
   "outputs": [
    {
     "data": {
      "text/plain": [
       "3*x^6 + 3*x^5 + 5*x^4 + 2*x^3 - 3*x^2 - 16*x - 6"
      ]
     },
     "execution_count": 22,
     "metadata": {},
     "output_type": "execute_result"
    }
   ],
   "source": [
    "p//q"
   ]
  },
  {
   "cell_type": "code",
   "execution_count": 23,
   "metadata": {},
   "outputs": [
    {
     "data": {
      "text/plain": [
       "-5*x^2 + 9*x + 14"
      ]
     },
     "execution_count": 23,
     "metadata": {},
     "output_type": "execute_result"
    }
   ],
   "source": [
    "p % q"
   ]
  },
  {
   "cell_type": "code",
   "execution_count": 1,
   "metadata": {},
   "outputs": [
    {
     "data": {
      "text/plain": [
       "(1, x + 1, -x + 4)"
      ]
     },
     "execution_count": 1,
     "metadata": {},
     "output_type": "execute_result"
    }
   ],
   "source": [
    "p = ZZ['x'](x^3+3*x^2+2*x + 5)\n",
    "q = ZZ['x'](x^2 + 2*x + 1)\n",
    "\n",
    "gcd(p,q), p // q, p % q"
   ]
  },
  {
   "cell_type": "code",
   "execution_count": 24,
   "metadata": {},
   "outputs": [
    {
     "data": {
      "text/plain": [
       "(3*x^9 + 3*x^8 + 5*x^7 + 5*x^6 - 11*x^4 - 4*x^3 - 8*x^2 - 7*x + 8,\n",
       " 3*x^9 + 3*x^8 + 5*x^7 + 5*x^6 - 11*x^4 - 4*x^3 - 8*x^2 - 7*x + 8)"
      ]
     },
     "execution_count": 24,
     "metadata": {},
     "output_type": "execute_result"
    }
   ],
   "source": [
    "p, p//q * q + p%q"
   ]
  },
  {
   "cell_type": "code",
   "execution_count": 34,
   "metadata": {},
   "outputs": [
    {
     "data": {
      "text/plain": [
       "x^19 + 2*x^18 + 3*x^17 + 4*x^16 + 5*x^15 + 6*x^14 + 7*x^13 + 8*x^12 + 9*x^11 + 10*x^10 + 11*x^9 + 12*x^8 + 13*x^7 + 14*x^6 + 15*x^5 + 16*x^4 + 17*x^3 + 18*x^2 + 19*x + 20"
      ]
     },
     "execution_count": 34,
     "metadata": {},
     "output_type": "execute_result"
    }
   ],
   "source": [
    "# Állítsuk elő azt az n-edfokú polinomot, amelynek együtthatói: n, n-1, ..., 1\n",
    "def gen_poli(n):\n",
    "    return ZZ['x'](list(reversed([x for x in range(1, n+1)])))\n",
    "\n",
    "gen_poli(20)"
   ]
  },
  {
   "cell_type": "code",
   "execution_count": null,
   "metadata": {},
   "outputs": [],
   "source": [
    "p = ZZ['x']([-12, 43, 13, -7, 42])\n",
    "q = ZZ['x']([1, -1, 1])\n",
    "print(p//q)\n",
    "print(p % q)"
   ]
  },
  {
   "cell_type": "code",
   "execution_count": 41,
   "metadata": {},
   "outputs": [
    {
     "data": {
      "text/plain": [
       "[(3, 1), (-7, 1)]"
      ]
     },
     "execution_count": 41,
     "metadata": {},
     "output_type": "execute_result"
    }
   ],
   "source": [
    "# Keresse meg a x^4 - 6*x^3 + 454*x - 1281 polinom gyökeit.\n",
    "p =  ZZ['x'](x^4 - 6*x^3 + 454*x - 1281)\n",
    "p.roots(ring=ZZ)"
   ]
  },
  {
   "cell_type": "code",
   "execution_count": null,
   "metadata": {},
   "outputs": [],
   "source": [
    "R = ZZ['x']\n",
    "R((8*x^2 + 12)*(18*x + 36)) % R(72)"
   ]
  },
  {
   "cell_type": "code",
   "execution_count": null,
   "metadata": {},
   "outputs": [],
   "source": []
  },
  {
   "cell_type": "code",
   "execution_count": 55,
   "metadata": {},
   "outputs": [
    {
     "data": {
      "text/plain": [
       "True"
      ]
     },
     "execution_count": 55,
     "metadata": {},
     "output_type": "execute_result"
    }
   ],
   "source": [
    "# Állítsuk elő azt az n-edfokú polinomot, amelynek a gyökei 1,2,...,n ---> p(1) = 0, p(2) = 0, ... p(n) = 0\n",
    "# p = (x-1)*(x-1)*(x-2)*.....*(x-n)\n",
    "def gen_poli(n):\n",
    "    list_p = []\n",
    "    for i in range(1, n+1):\n",
    "        list_p.append((x-i)^10)\n",
    "        # list_p.append(x-i)\n",
    "    return ZZ['x'](prod(list_p))\n",
    "\n",
    "p = gen_poli(5)\n",
    "\n",
    "((x-4)^10).divides(p)"
   ]
  },
  {
   "cell_type": "code",
   "execution_count": 57,
   "metadata": {},
   "outputs": [
    {
     "data": {
      "text/plain": [
       "x^5 - 5*x^3 + 5*x + 2"
      ]
     },
     "execution_count": 57,
     "metadata": {},
     "output_type": "execute_result"
    }
   ],
   "source": [
    "# Keressük meg a x^5-5*x^3+5*x+2 (komplex együtthatós) polinom többszörös gyökeit\n",
    "p = ZZ['x'](x^5-5*x^3+5*x+2)\n",
    "p"
   ]
  },
  {
   "cell_type": "code",
   "execution_count": 61,
   "metadata": {},
   "outputs": [
    {
     "name": "stdout",
     "output_type": "stream",
     "text": [
      "-0.618033988749895\n",
      "1.61803398874989\n",
      "-0.618033988749895\n",
      "1.61803398874989\n"
     ]
    }
   ],
   "source": [
    "p.roots(ring=RR)\n",
    "l = p.roots(ring=CC)\n",
    "for i in l: # i == (gyok, nr) -> \n",
    "    if i[1] > 1:\n",
    "        print(i[0])\n",
    "\n",
    "for i, j in l:\n",
    "    if j > 1:\n",
    "        print(i)"
   ]
  },
  {
   "cell_type": "code",
   "execution_count": 2,
   "metadata": {},
   "outputs": [
    {
     "data": {
      "text/plain": [
       "[x == -7, x == 3, x == (-6*I + 5), x == (6*I + 5)]"
      ]
     },
     "execution_count": 2,
     "metadata": {},
     "output_type": "execute_result"
    }
   ],
   "source": [
    "solve(p(x) == 0, x)"
   ]
  },
  {
   "cell_type": "code",
   "execution_count": 3,
   "metadata": {},
   "outputs": [
    {
     "data": {
      "text/plain": [
       "[{x: -7}, {x: 3}, {x: -6*I + 5}, {x: 6*I + 5}]"
      ]
     },
     "execution_count": 3,
     "metadata": {},
     "output_type": "execute_result"
    }
   ],
   "source": [
    "solve(p(x) == 0, x, solution_dict=True)\n"
   ]
  },
  {
   "cell_type": "code",
   "execution_count": 4,
   "metadata": {},
   "outputs": [
    {
     "data": {
      "text/plain": [
       "3.0000000000000004"
      ]
     },
     "execution_count": 4,
     "metadata": {},
     "output_type": "execute_result"
    }
   ],
   "source": [
    "find_root(p(x) == 0, 1, 5)"
   ]
  },
  {
   "cell_type": "code",
   "execution_count": 68,
   "metadata": {},
   "outputs": [
    {
     "data": {
      "text/plain": [
       "x^4 - 0.447185654253706*x^3 - 4.37242788023531*x^2 + 0.988821755575044*x + 4.88945327407322"
      ]
     },
     "execution_count": 68,
     "metadata": {},
     "output_type": "execute_result"
    }
   ],
   "source": [
    "\n",
    "#Készítsen függvényt, amely paraméterként fogad egy poly polinomot, és eredményül ad egy olyan polinomot, amelynek ugyanazok a valós gyökei mint poly-nak, de nincsenek komplex gyökei.\n",
    "def gen_poli(poly):\n",
    "    l = poly.roots(ring=RR)\n",
    "    # (r, n) --- > (x-r)^n\n",
    "    p = 1\n",
    "    for r, n in l:\n",
    "        p *= (x-r)^n\n",
    "    return RR['x'](p)\n",
    "\n",
    "gen_poli(ZZ['x'](x^4 - x - 5)^2)"
   ]
  },
  {
   "cell_type": "code",
   "execution_count": 69,
   "metadata": {},
   "outputs": [
    {
     "data": {
      "image/png": "[encoded data removed]",
      "text/plain": [
       "Graphics object consisting of 1 graphics primitive"
      ]
     },
     "execution_count": 69,
     "metadata": {},
     "output_type": "execute_result"
    }
   ],
   "source": [
    "plot(x^2, x, -10, 10, xmin=-10, xmax=10, ymin=-10, ymax=10, aspect_ratio=1)\n"
   ]
  },
  {
   "cell_type": "code",
   "execution_count": 73,
   "metadata": {},
   "outputs": [
    {
     "data": {
      "image/png": "[encoded data removed]",
      "text/plain": [
       "Graphics object consisting of 1 graphics primitive"
      ]
     },
     "execution_count": 73,
     "metadata": {},
     "output_type": "execute_result"
    }
   ],
   "source": [
    "# Ábrázolja a x^5 - 5*x^4 - 80*x^3 + 60*x^2 + 2384*x + 5760 polinomot valamint a komplex gyökeit a Gauss-számsíkon.\n",
    "\n",
    "p = CC['x'](x^5 - 5*x^4 - 80*x^3 + 60*x^2 + 2384*x + 5760)\n",
    "p\n",
    "plot(p(x), x, -10, 10)\n",
    "\n"
   ]
  },
  {
   "cell_type": "code",
   "execution_count": 77,
   "metadata": {},
   "outputs": [
    {
     "name": "stdout",
     "output_type": "stream",
     "text": [
      "[(-4.00000000000000, 1), (8.00000000000000, 1), (9.00000000000000, 1), (-4.00000000000000 - 2.00000000000000*I, 1), (-4.00000000000000 + 2.00000000000000*I, 1)]\n"
     ]
    },
    {
     "data": {
      "image/png": "[encoded data removed]",
      "text/plain": [
       "Graphics object consisting of 1 graphics primitive"
      ]
     },
     "execution_count": 77,
     "metadata": {},
     "output_type": "execute_result"
    }
   ],
   "source": [
    "print(p.roots(ring=CC))\n",
    "points([(root.real(), root.imag()) for (root, mult) in p.roots(ring=CC)], axes_labels=['Re', 'Im'], color='red', size=50)\n"
   ]
  },
  {
   "cell_type": "code",
   "execution_count": 94,
   "metadata": {},
   "outputs": [
    {
     "data": {
      "image/png": "[encoded data removed]",
      "text/plain": [
       "Graphics object consisting of 1 graphics primitive"
      ]
     },
     "metadata": {},
     "output_type": "display_data"
    },
    {
     "data": {
      "text/plain": [
       "x^4 - x^3 + x^2 - 1"
      ]
     },
     "execution_count": 94,
     "metadata": {},
     "output_type": "execute_result"
    }
   ],
   "source": [
    "# Készítsen függvényt, amely előállít egy n-edfokú polinomot, amelynek együtthatóit véletlenszerűen választja meg a {-1, 0, +1} halmazból, majd ábrázolja a komplex gyökeit a Gauss-számsíkon.\n",
    "randint(-1,1) # -1, 0 , 1 értekek\n",
    "\n",
    "def gen_poli(n):\n",
    "    # együtthatók száma ?\n",
    "    # f_n * x^n + f_{n-1} * x^{n-1} + ... + f_1 * x + f_0 #[0 .. n] = n+1\n",
    "    l = [randint(-1,1) for _ in range(n)]\n",
    "    if randint(0,1):\n",
    "        l + [1]\n",
    "    else:\n",
    "        l.append(-1)\n",
    "    p = ZZ['x'](l)\n",
    "    GP = points([(root.real(), root.imag()) for (root, mult) in p.roots(ring=CC)], axes_labels=['Re', 'Im'], color='red', size=50)\n",
    "    show(GP)\n",
    "    return p # ++ [-1 vagy 1]\n",
    "\n",
    "gen_poli(5)"
   ]
  },
  {
   "cell_type": "code",
   "execution_count": 95,
   "metadata": {},
   "outputs": [
    {
     "name": "stdout",
     "output_type": "stream",
     "text": [
      "x^10 - x^9 + x^7 - x^6 - x^5 - x^4 - x^3 + x - 1\n",
      "-1.07280559570198 1\n",
      "1.40474708467712 1\n",
      "-0.799287853201880 - 0.535313096195348*I 1\n",
      "-0.799287853201880 + 0.535313096195348*I 1\n",
      "-0.134605645419922 - 0.949479403887782*I 1\n",
      "-0.134605645419922 + 0.949479403887782*I 1\n",
      "0.544576020088158 - 0.397143592277944*I 1\n",
      "0.544576020088158 + 0.397143592277944*I 1\n",
      "0.723346734046070 - 1.09228756202364*I 1\n",
      "0.723346734046070 + 1.09228756202364*I 1\n"
     ]
    },
    {
     "data": {
      "image/png": "[encoded data removed]",
      "text/plain": [
       "Graphics object consisting of 1 graphics primitive"
      ]
     },
     "metadata": {},
     "output_type": "display_data"
    }
   ],
   "source": [
    "def genPoli(n):\n",
    "    L = [randint(-1, 1) for _ in range(n)]\n",
    "    if not randint(0,1):\n",
    "        L.append(-1)\n",
    "    else:\n",
    "           L.append(1)\n",
    "    p = ZZ['x'](L)\n",
    "    print(p)\n",
    "    roots_list = p.roots(ring=CC)\n",
    "    points = []\n",
    "    for (z, nr) in roots_list:\n",
    "        print(z, nr)\n",
    "        points.append((z.real(), z.imag()))\n",
    "    show(point(points, size=20))\n",
    "    \n",
    "genPoli(10)"
   ]
  },
  {
   "cell_type": "code",
   "execution_count": 96,
   "metadata": {},
   "outputs": [
    {
     "data": {
      "text/html": [
       "<html><script type=\"math/tex; mode=display\">\\newcommand{\\Bold}[1]{\\mathbf{#1}}-x^{4} - x^{3} - x^{2} + x + 0.000000000000000</script></html>"
      ],
      "text/latex": [
       "\\begin{math}\n",
       "\\newcommand{\\Bold}[1]{\\mathbf{#1}}-x^{4} - x^{3} - x^{2} + x + 0.000000000000000\n",
       "\\end{math}"
      ],
      "text/plain": [
       "-x^4 - x^3 - x^2 + x"
      ]
     },
     "metadata": {},
     "output_type": "display_data"
    },
    {
     "data": {
      "image/png": "[encoded data removed]",
      "text/plain": [
       "Graphics object consisting of 1 graphics primitive"
      ]
     },
     "execution_count": 96,
     "metadata": {},
     "output_type": "execute_result"
    }
   ],
   "source": [
    "H = [-1, 0, 1]\n",
    "def rndChoice(H):\n",
    "    if(type(H) != list):\n",
    "        raise Exception('Please provide a list')\n",
    "    index = floor(random() * len(H))\n",
    "    return H[index]\n",
    "def getRandomPolynomial(n):\n",
    "    return CC['x']([rndChoice(H) for i in range(n)])\n",
    "\n",
    "def solution(n):\n",
    "    polynom = getRandomPolynomial(n)\n",
    "    show(polynom)\n",
    "    p = [[a.real(), a.imag()] for (a,b) in polynom.roots(ring=CC)]\n",
    "    return points(p, color='red')\n",
    "solution(5)"
   ]
  },
  {
   "cell_type": "code",
   "execution_count": 85,
   "metadata": {},
   "outputs": [
    {
     "data": {
      "text/plain": [
       "[1, 1, 2, 0]"
      ]
     },
     "execution_count": 85,
     "metadata": {},
     "output_type": "execute_result"
    }
   ],
   "source": [
    "[1, 1] + [2, 0]"
   ]
  },
  {
   "cell_type": "code",
   "execution_count": 110,
   "metadata": {},
   "outputs": [
    {
     "name": "stdout",
     "output_type": "stream",
     "text": [
      "x^3 - 2*x^2 - x + 2 x^4 - 3*x^3 + 3*x^2 - 3*x + 2 x^2 - 3*x + 2\n"
     ]
    },
    {
     "data": {
      "image/png": "[encoded data removed]",
      "text/plain": [
       "Graphics object consisting of 3 graphics primitives"
      ]
     },
     "metadata": {},
     "output_type": "display_data"
    }
   ],
   "source": [
    "# Szorgalmi: Készíts függvényt, amely paraméterként fogad p, q polinomokat.\n",
    "#  Ábrázolja egy közös koordináta-rendszerben a p, q, lnko(p, q) polinomokat.\n",
    "def show_poli(p,q):\n",
    "    lnko = gcd(p,q)\n",
    "    print(p,q, lnko)\n",
    "    g = plot(p) + plot(q) + plot(lnko, -10,30, color='red')\n",
    "    show(g)\n",
    "\n",
    "var('y')\n",
    "a = ZZ['x']((x-1)*(x-2)*(x+1))\n",
    "b = ZZ['x']((x-1)*(x-2)*(x^2 + 1))\n",
    "show_poli(a,b)"
   ]
  },
  {
   "cell_type": "code",
   "execution_count": 90,
   "metadata": {},
   "outputs": [
    {
     "data": {
      "text/plain": [
       "[1, 2, 1, 2, 3]"
      ]
     },
     "execution_count": 90,
     "metadata": {},
     "output_type": "execute_result"
    }
   ],
   "source": [
    "l = [1]\n",
    "l.append(2)\n",
    "l.extend([1,2,3])\n",
    "l"
   ]
  },
  {
   "cell_type": "code",
   "execution_count": 83,
   "metadata": {},
   "outputs": [
    {
     "data": {
      "text/plain": [
       "-x^4 - x^3 - 1"
      ]
     },
     "execution_count": 83,
     "metadata": {},
     "output_type": "execute_result"
    }
   ],
   "source": [
    "ZZ['x']([-1, 0, 0, -1, -1, 0])"
   ]
  },
  {
   "cell_type": "code",
   "execution_count": null,
   "metadata": {},
   "outputs": [],
   "source": [
    "# randint\n",
    "# random_element\n",
    "# p = RR['x'].random_element(degree=n)"
   ]
  },
  {
   "cell_type": "code",
   "execution_count": null,
   "metadata": {},
   "outputs": [],
   "source": [
    "3*(-13) + 5*6 + (-11)*(-13) + 7*16 "
   ]
  },
  {
   "cell_type": "code",
   "execution_count": null,
   "metadata": {},
   "outputs": [],
   "source": [
    "168 % 24\n"
   ]
  },
  {
   "cell_type": "code",
   "execution_count": null,
   "metadata": {},
   "outputs": [],
   "source": [
    "expand((8*x^2 + 12)*(18*x + 36))"
   ]
  },
  {
   "cell_type": "code",
   "execution_count": null,
   "metadata": {},
   "outputs": [],
   "source": [
    "\n",
    "def plonom_n(n):\n",
    "    return ZZ['x']([ x for x in range(n+1)])\n",
    "plonom_n(10)"
   ]
  },
  {
   "cell_type": "code",
   "execution_count": null,
   "metadata": {},
   "outputs": [],
   "source": []
  }
 ],
 "metadata": {
  "kernelspec": {
   "display_name": "SageMath 9.2",
   "language": "sage",
   "name": "sagemath"
  },
  "language_info": {
   "codemirror_mode": {
    "name": "ipython",
    "version": 3
   },
   "file_extension": ".py",
   "mimetype": "text/x-python",
   "name": "python",
   "nbconvert_exporter": "python",
   "pygments_lexer": "ipython3",
   "version": "3.7.7"
  }
 },
 "nbformat": 4,
 "nbformat_minor": 4
}
